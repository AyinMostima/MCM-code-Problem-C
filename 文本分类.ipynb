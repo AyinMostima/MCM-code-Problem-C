{
 "cells": [
  {
   "cell_type": "code",
   "execution_count": 1,
   "metadata": {
    "collapsed": true
   },
   "outputs": [],
   "source": [
    "import numpy as np\n",
    "from keras.utils import pad_sequences\n",
    "from keras.preprocessing.text import Tokenizer,tokenizer_from_json\n",
    "import pandas as pd\n",
    "from nltk.corpus import stopwords\n",
    "import re\n",
    "import json\n",
    "STOPWORDS = set(stopwords.words('english'))\n",
    "import os"
   ]
  },
  {
   "cell_type": "code",
   "execution_count": 2,
   "outputs": [],
   "source": [
    "embedding_dim=100\n",
    "oov_token = '<OOV>'\n",
    "train_test_split = 0.8\n",
    "max_len = 200\n",
    "trunc_type = 'post'\n",
    "padding_type = 'post'"
   ],
   "metadata": {
    "collapsed": false,
    "pycharm": {
     "name": "#%%\n"
    }
   }
  },
  {
   "cell_type": "code",
   "execution_count": 3,
   "outputs": [],
   "source": [
    "df = pd.read_csv('../bbc-text.csv')\n",
    "labels = df.get('category').values.tolist()\n",
    "articles = df.get('text').values.tolist()\n",
    "for i in range(len(articles)):\n",
    "    for word in STOPWORDS:\n",
    "        token = ' '+word+' '\n",
    "        articles[i] = articles[i].replace(token,' ')\n",
    "        articles[i] = re.sub(r'\\s+', ' ',articles[i])"
   ],
   "metadata": {
    "collapsed": false,
    "pycharm": {
     "name": "#%%\n"
    }
   }
  },
  {
   "cell_type": "code",
   "execution_count": 4,
   "outputs": [],
   "source": [
    "tokenizer = Tokenizer(oov_token=oov_token)\n",
    "tokenizer.fit_on_texts(articles)\n",
    "sequences = tokenizer.texts_to_sequences(articles)\n",
    "article_sequences = pad_sequences(sequences,maxlen=max_len,truncating=trunc_type,padding=padding_type)\n",
    "word_index = tokenizer.word_index\n",
    "vocab_size = len(word_index)\n",
    "\n",
    "split_index = int(len(article_sequences)*train_test_split)\n",
    "train_sequences = np.array(article_sequences[0:split_index])\n",
    "test_sequences = np.array(article_sequences[split_index:])\n",
    "\n",
    "label_tokenizer = Tokenizer()\n",
    "label_tokenizer.fit_on_texts(labels)\n",
    "label_sequences = label_tokenizer.texts_to_sequences(labels)\n",
    "train_label = np.array(label_sequences[0:split_index])\n",
    "test_label = np.array(label_sequences[split_index:])"
   ],
   "metadata": {
    "collapsed": false,
    "pycharm": {
     "name": "#%%\n"
    }
   }
  },
  {
   "cell_type": "code",
   "execution_count": 5,
   "outputs": [],
   "source": [
    "tokenizer_json = tokenizer.to_json()\n",
    "label_tokenizer_json = label_tokenizer.to_json()"
   ],
   "metadata": {
    "collapsed": false,
    "pycharm": {
     "name": "#%%\n"
    }
   }
  },
  {
   "cell_type": "code",
   "execution_count": 7,
   "outputs": [],
   "source": [
    "embeddings_index = {};\n",
    "with open('../../glove.6B.100d.txt',encoding='utf-8') as f:\n",
    "    for line in f:\n",
    "        values = line.split();\n",
    "        word = values[0];\n",
    "        coefs = np.asarray(values[1:], dtype='float32')\n",
    "        embeddings_index[word] = coefs;\n",
    "\n",
    "embeddings_matrix = np.zeros((vocab_size+1, embedding_dim))\n",
    "for word, i in word_index.items():\n",
    "    embedding_vector = embeddings_index.get(word)\n",
    "    if embedding_vector is not None:\n",
    "        embeddings_matrix[i] = embedding_vector"
   ],
   "metadata": {
    "collapsed": false,
    "pycharm": {
     "name": "#%%\n"
    }
   }
  },
  {
   "cell_type": "code",
   "execution_count": 8,
   "outputs": [],
   "source": [
    "if not os.path.exists('tokenizer.json'):\n",
    "    with open('tokenizer.json', 'w', encoding='utf-8') as f:\n",
    "        f.write(json.dumps(tokenizer_json, ensure_ascii=False))\n",
    "if not os.path.exists('label_tokenizer_json.json'):\n",
    "    with open('label_tokenizer_json.json', 'w', encoding='utf-8') as f:\n",
    "        f.write(json.dumps(label_tokenizer_json, ensure_ascii=False))"
   ],
   "metadata": {
    "collapsed": false,
    "pycharm": {
     "name": "#%%\n"
    }
   }
  },
  {
   "cell_type": "code",
   "execution_count": 9,
   "outputs": [],
   "source": [
    "np.save('train_sequences.npy',train_sequences)\n",
    "np.save('train_label.npy',train_label)\n",
    "np.save('test_sequences.npy',test_sequences)\n",
    "np.save('test_label.npy',test_label)\n",
    "np.save('embeddings_matrix.npy',embeddings_matrix)"
   ],
   "metadata": {
    "collapsed": false,
    "pycharm": {
     "name": "#%%\n"
    }
   }
  },
  {
   "cell_type": "code",
   "execution_count": 10,
   "outputs": [
    {
     "name": "stdout",
     "output_type": "stream",
     "text": [
      "(1780, 200)\n",
      "(1780, 1)\n",
      "(445, 200)\n",
      "(445, 1)\n",
      "29699\n",
      "4814\n"
     ]
    }
   ],
   "source": [
    "print(train_sequences.shape)\n",
    "print(train_label.shape)\n",
    "print(test_sequences.shape)\n",
    "print(test_label.shape)\n",
    "print(vocab_size)\n",
    "print(word_index['i'])"
   ],
   "metadata": {
    "collapsed": false,
    "pycharm": {
     "name": "#%%\n"
    }
   }
  },
  {
   "cell_type": "code",
   "execution_count": 11,
   "outputs": [],
   "source": [
    "import numpy as np\n",
    "from keras.models import Sequential\n",
    "from keras.layers import Dropout, Flatten, Dense, LSTM, Embedding,Conv2D,Bidirectional,MaxPool2D,Reshape\n",
    "from keras.models import load_model\n",
    "from keras.preprocessing.text import Tokenizer,tokenizer_from_json\n",
    "from keras.callbacks import ModelCheckpoint\n",
    "import json\n",
    "import os\n",
    "import datetime as dt\n",
    "from matplotlib import pyplot as plt"
   ],
   "metadata": {
    "collapsed": false,
    "pycharm": {
     "name": "#%%\n"
    }
   }
  },
  {
   "cell_type": "code",
   "execution_count": 12,
   "outputs": [],
   "source": [
    "with open('tokenizer.json', 'r', encoding='utf-8') as f1:\n",
    "    tokenizer_config = json.load(f1)\n",
    "with open('label_tokenizer_json.json', 'r', encoding='utf-8') as f2:\n",
    "    label_tokenizer_config = json.load(f2)"
   ],
   "metadata": {
    "collapsed": false,
    "pycharm": {
     "name": "#%%\n"
    }
   }
  },
  {
   "cell_type": "code",
   "execution_count": 13,
   "outputs": [],
   "source": [
    "train_sequences= np.load('train_sequences.npy')\n",
    "train_label= np.load('train_label.npy')\n",
    "test_sequences = np.load('test_sequences.npy')\n",
    "test_label= np.load('test_label.npy')\n",
    "embeddings_matrix= np.load('embeddings_matrix.npy')"
   ],
   "metadata": {
    "collapsed": false,
    "pycharm": {
     "name": "#%%\n"
    }
   }
  },
  {
   "cell_type": "code",
   "execution_count": 14,
   "outputs": [],
   "source": [
    "tokenizer = tokenizer_from_json(tokenizer_config)\n",
    "label_tokenizer = tokenizer_from_json(label_tokenizer_config)"
   ],
   "metadata": {
    "collapsed": false,
    "pycharm": {
     "name": "#%%\n"
    }
   }
  },
  {
   "cell_type": "code",
   "execution_count": 15,
   "outputs": [],
   "source": [
    "embedding_dim = 100\n",
    "word_index = word_index\n",
    "vocab_size = vocab_size\n",
    "max_len = 200\n",
    "rnn_units = 100"
   ],
   "metadata": {
    "collapsed": false,
    "pycharm": {
     "name": "#%%\n"
    }
   }
  },
  {
   "cell_type": "code",
   "execution_count": 16,
   "outputs": [
    {
     "name": "stdout",
     "output_type": "stream",
     "text": [
      "Model: \"sequential\"\n",
      "_________________________________________________________________\n",
      " Layer (type)                Output Shape              Param #   \n",
      "=================================================================\n",
      " embedding (Embedding)       (None, 200, 100)          2970000   \n",
      "                                                                 \n",
      " dropout (Dropout)           (None, 200, 100)          0         \n",
      "                                                                 \n",
      " bidirectional (Bidirectiona  (None, 200, 100)         160800    \n",
      " l)                                                              \n",
      "                                                                 \n",
      " dropout_1 (Dropout)         (None, 200, 100)          0         \n",
      "                                                                 \n",
      " reshape (Reshape)           (None, 200, 100, 1)       0         \n",
      "                                                                 \n",
      " conv2d (Conv2D)             (None, 198, 98, 64)       640       \n",
      "                                                                 \n",
      " max_pooling2d (MaxPooling2D  (None, 99, 49, 64)       0         \n",
      " )                                                               \n",
      "                                                                 \n",
      " dropout_2 (Dropout)         (None, 99, 49, 64)        0         \n",
      "                                                                 \n",
      " flatten (Flatten)           (None, 310464)            0         \n",
      "                                                                 \n",
      " dense (Dense)               (None, 6)                 1862790   \n",
      "                                                                 \n",
      "=================================================================\n",
      "Total params: 4,994,230\n",
      "Trainable params: 2,024,230\n",
      "Non-trainable params: 2,970,000\n",
      "_________________________________________________________________\n"
     ]
    }
   ],
   "source": [
    "model = Sequential()\n",
    "model.add(Embedding(vocab_size+1,embedding_dim,input_length=max_len,weights=[embeddings_matrix], trainable=False))\n",
    "model.add(Dropout(0.5))\n",
    "model.add(Bidirectional(LSTM(rnn_units,return_sequences=True),merge_mode='sum'))\n",
    "model.add(Dropout(0.2))\n",
    "model.add(Reshape((-1,rnn_units,1)))\n",
    "model.add(Conv2D(64,kernel_size=(3,3),activation='relu'))\n",
    "model.add(MaxPool2D(pool_size=(2,2)))\n",
    "model.add(Dropout(0.4))\n",
    "model.add(Flatten())\n",
    "model.add(Dense(6,activation='softmax'))\n",
    "model.compile(loss='sparse_categorical_crossentropy', optimizer='adadelta',metrics=['accuracy'])\n",
    "model.summary()"
   ],
   "metadata": {
    "collapsed": false,
    "pycharm": {
     "name": "#%%\n"
    }
   }
  },
  {
   "cell_type": "code",
   "execution_count": 17,
   "outputs": [
    {
     "name": "stdout",
     "output_type": "stream",
     "text": [
      "Epoch 1/10\n",
      "56/56 [==============================] - 20s 318ms/step - loss: 1.7188 - accuracy: 0.2388 - val_loss: 1.6743 - val_accuracy: 0.3438\n",
      "Epoch 2/10\n",
      "56/56 [==============================] - 18s 317ms/step - loss: 1.6318 - accuracy: 0.3197 - val_loss: 1.6133 - val_accuracy: 0.3820\n",
      "Epoch 3/10\n",
      "56/56 [==============================] - 18s 317ms/step - loss: 1.5767 - accuracy: 0.3747 - val_loss: 1.5711 - val_accuracy: 0.4360\n",
      "Epoch 4/10\n",
      "56/56 [==============================] - 20s 351ms/step - loss: 1.5417 - accuracy: 0.3854 - val_loss: 1.5350 - val_accuracy: 0.5461\n",
      "Epoch 5/10\n",
      "56/56 [==============================] - 25s 443ms/step - loss: 1.5114 - accuracy: 0.4472 - val_loss: 1.5040 - val_accuracy: 0.5775\n",
      "Epoch 6/10\n",
      "56/56 [==============================] - 25s 439ms/step - loss: 1.4786 - accuracy: 0.4865 - val_loss: 1.4764 - val_accuracy: 0.6427\n",
      "Epoch 7/10\n",
      "56/56 [==============================] - 25s 438ms/step - loss: 1.4554 - accuracy: 0.5270 - val_loss: 1.4506 - val_accuracy: 0.6337\n",
      "Epoch 8/10\n",
      "56/56 [==============================] - 23s 419ms/step - loss: 1.4337 - accuracy: 0.5545 - val_loss: 1.4253 - val_accuracy: 0.6607\n",
      "Epoch 9/10\n",
      "56/56 [==============================] - 24s 424ms/step - loss: 1.4124 - accuracy: 0.5725 - val_loss: 1.4028 - val_accuracy: 0.7124\n",
      "Epoch 10/10\n",
      "56/56 [==============================] - 24s 436ms/step - loss: 1.3881 - accuracy: 0.6034 - val_loss: 1.3805 - val_accuracy: 0.7146\n"
     ]
    },
    {
     "data": {
      "text/plain": "<keras.callbacks.History at 0x18c8cf95280>"
     },
     "execution_count": 17,
     "metadata": {},
     "output_type": "execute_result"
    }
   ],
   "source": [
    "epochs = 10\n",
    "save_dir = './saved_model'\n",
    "save_fname = os.path.join(save_dir, \"情感2.h5\")\n",
    "callbacks = [ModelCheckpoint(filepath=save_fname, monitor='loss', save_best_only=True)]\n",
    "model.fit(train_sequences,train_label,epochs=epochs,validation_data=(test_sequences,test_label),callbacks=callbacks)"
   ],
   "metadata": {
    "collapsed": false,
    "pycharm": {
     "name": "#%%\n"
    }
   }
  },
  {
   "cell_type": "code",
   "execution_count": null,
   "outputs": [
    {
     "name": "stdout",
     "output_type": "stream",
     "text": [
      "Epoch 1/10\n",
      "241/241 [==============================] - 69s 286ms/step - loss: 0.6943 - accuracy: 0.5393 - val_loss: 0.6979 - val_accuracy: 0.6271\n",
      "Epoch 2/10\n",
      "241/241 [==============================] - 70s 290ms/step - loss: 0.6932 - accuracy: 0.5473 - val_loss: 0.6963 - val_accuracy: 0.5257\n",
      "Epoch 3/10\n",
      "241/241 [==============================] - 71s 296ms/step - loss: 0.6918 - accuracy: 0.5389 - val_loss: 0.6945 - val_accuracy: 0.5767\n",
      "Epoch 4/10\n",
      "241/241 [==============================] - 69s 287ms/step - loss: 0.6911 - accuracy: 0.5407 - val_loss: 0.6929 - val_accuracy: 0.6100\n",
      "Epoch 5/10\n",
      " 75/241 [========>.....................] - ETA: 47s - loss: 0.6900 - accuracy: 0.5417"
     ]
    }
   ],
   "source": [
    "model.fit(train_sequences,train_label,epochs=epochs,validation_data=(test_sequences,test_label),callbacks=callbacks)"
   ],
   "metadata": {
    "collapsed": false,
    "pycharm": {
     "name": "#%%\n",
     "is_executing": true
    }
   }
  },
  {
   "cell_type": "code",
   "execution_count": 18,
   "outputs": [
    {
     "name": "stdout",
     "output_type": "stream",
     "text": [
      "Epoch 1/10\n",
      "56/56 [==============================] - 32s 576ms/step - loss: 1.3710 - accuracy: 0.6146 - val_loss: 1.3588 - val_accuracy: 0.7236\n",
      "Epoch 2/10\n",
      "56/56 [==============================] - 32s 578ms/step - loss: 1.3481 - accuracy: 0.6539 - val_loss: 1.3377 - val_accuracy: 0.7303\n",
      "Epoch 3/10\n",
      "56/56 [==============================] - 32s 570ms/step - loss: 1.3264 - accuracy: 0.6522 - val_loss: 1.3167 - val_accuracy: 0.7461\n",
      "Epoch 4/10\n",
      "56/56 [==============================] - 32s 568ms/step - loss: 1.3097 - accuracy: 0.6719 - val_loss: 1.2965 - val_accuracy: 0.7528\n",
      "Epoch 5/10\n",
      "56/56 [==============================] - 34s 614ms/step - loss: 1.2850 - accuracy: 0.7006 - val_loss: 1.2762 - val_accuracy: 0.7528\n",
      "Epoch 6/10\n",
      "56/56 [==============================] - 33s 591ms/step - loss: 1.2660 - accuracy: 0.7163 - val_loss: 1.2546 - val_accuracy: 0.7551\n",
      "Epoch 7/10\n",
      "56/56 [==============================] - 33s 582ms/step - loss: 1.2493 - accuracy: 0.7112 - val_loss: 1.2349 - val_accuracy: 0.7730\n",
      "Epoch 8/10\n",
      "56/56 [==============================] - 34s 600ms/step - loss: 1.2290 - accuracy: 0.7270 - val_loss: 1.2151 - val_accuracy: 0.7820\n",
      "Epoch 9/10\n",
      "56/56 [==============================] - 32s 571ms/step - loss: 1.2078 - accuracy: 0.7478 - val_loss: 1.1940 - val_accuracy: 0.7798\n",
      "Epoch 10/10\n",
      "56/56 [==============================] - 25s 443ms/step - loss: 1.1877 - accuracy: 0.7472 - val_loss: 1.1747 - val_accuracy: 0.7955\n"
     ]
    },
    {
     "data": {
      "text/plain": "<keras.callbacks.History at 0x18c8cbfe550>"
     },
     "execution_count": 18,
     "metadata": {},
     "output_type": "execute_result"
    }
   ],
   "source": [
    "model.fit(train_sequences,train_label,epochs=epochs,validation_data=(test_sequences,test_label),callbacks=callbacks)"
   ],
   "metadata": {
    "collapsed": false,
    "pycharm": {
     "name": "#%%\n"
    }
   }
  },
  {
   "cell_type": "code",
   "execution_count": 19,
   "outputs": [
    {
     "name": "stdout",
     "output_type": "stream",
     "text": [
      "Epoch 1/10\n",
      "56/56 [==============================] - 33s 592ms/step - loss: 1.1690 - accuracy: 0.7657 - val_loss: 1.1532 - val_accuracy: 0.8247\n",
      "Epoch 2/10\n",
      "56/56 [==============================] - 32s 573ms/step - loss: 1.1533 - accuracy: 0.7601 - val_loss: 1.1322 - val_accuracy: 0.8247\n",
      "Epoch 3/10\n",
      "56/56 [==============================] - 31s 559ms/step - loss: 1.1296 - accuracy: 0.7629 - val_loss: 1.1121 - val_accuracy: 0.8292\n",
      "Epoch 4/10\n",
      "56/56 [==============================] - 31s 558ms/step - loss: 1.1106 - accuracy: 0.7826 - val_loss: 1.0916 - val_accuracy: 0.8292\n",
      "Epoch 5/10\n",
      "56/56 [==============================] - 31s 557ms/step - loss: 1.0908 - accuracy: 0.7865 - val_loss: 1.0708 - val_accuracy: 0.8292\n",
      "Epoch 6/10\n",
      "56/56 [==============================] - 31s 558ms/step - loss: 1.0690 - accuracy: 0.7978 - val_loss: 1.0505 - val_accuracy: 0.8427\n",
      "Epoch 7/10\n",
      "56/56 [==============================] - 32s 569ms/step - loss: 1.0480 - accuracy: 0.8011 - val_loss: 1.0301 - val_accuracy: 0.8427\n",
      "Epoch 8/10\n",
      "56/56 [==============================] - 31s 554ms/step - loss: 1.0291 - accuracy: 0.8174 - val_loss: 1.0107 - val_accuracy: 0.8404\n",
      "Epoch 9/10\n",
      "56/56 [==============================] - 32s 572ms/step - loss: 1.0108 - accuracy: 0.8129 - val_loss: 0.9887 - val_accuracy: 0.8584\n",
      "Epoch 10/10\n",
      "56/56 [==============================] - 31s 554ms/step - loss: 0.9874 - accuracy: 0.8281 - val_loss: 0.9688 - val_accuracy: 0.8427\n"
     ]
    },
    {
     "data": {
      "text/plain": "<keras.callbacks.History at 0x18c8d3bbd30>"
     },
     "execution_count": 19,
     "metadata": {},
     "output_type": "execute_result"
    }
   ],
   "source": [
    "model.fit(train_sequences,train_label,epochs=epochs,validation_data=(test_sequences,test_label),callbacks=callbacks)"
   ],
   "metadata": {
    "collapsed": false,
    "pycharm": {
     "name": "#%%\n"
    }
   }
  },
  {
   "cell_type": "code",
   "execution_count": 20,
   "outputs": [
    {
     "name": "stdout",
     "output_type": "stream",
     "text": [
      "Epoch 1/10\n",
      "56/56 [==============================] - 34s 605ms/step - loss: 0.9677 - accuracy: 0.8264 - val_loss: 0.9477 - val_accuracy: 0.8607\n",
      "Epoch 2/10\n",
      "56/56 [==============================] - 32s 572ms/step - loss: 0.9505 - accuracy: 0.8326 - val_loss: 0.9283 - val_accuracy: 0.8629\n",
      "Epoch 3/10\n",
      "56/56 [==============================] - 32s 569ms/step - loss: 0.9298 - accuracy: 0.8388 - val_loss: 0.9080 - val_accuracy: 0.8629\n",
      "Epoch 4/10\n",
      "56/56 [==============================] - 33s 594ms/step - loss: 0.9137 - accuracy: 0.8449 - val_loss: 0.8871 - val_accuracy: 0.8674\n",
      "Epoch 5/10\n",
      "56/56 [==============================] - 35s 630ms/step - loss: 0.8890 - accuracy: 0.8421 - val_loss: 0.8680 - val_accuracy: 0.8719\n",
      "Epoch 6/10\n",
      "56/56 [==============================] - 33s 580ms/step - loss: 0.8698 - accuracy: 0.8522 - val_loss: 0.8500 - val_accuracy: 0.8764\n",
      "Epoch 7/10\n",
      "56/56 [==============================] - 32s 565ms/step - loss: 0.8555 - accuracy: 0.8438 - val_loss: 0.8297 - val_accuracy: 0.8809\n",
      "Epoch 8/10\n",
      "56/56 [==============================] - 32s 579ms/step - loss: 0.8315 - accuracy: 0.8551 - val_loss: 0.8106 - val_accuracy: 0.8787\n",
      "Epoch 9/10\n",
      "56/56 [==============================] - 33s 598ms/step - loss: 0.8182 - accuracy: 0.8635 - val_loss: 0.7926 - val_accuracy: 0.8876\n",
      "Epoch 10/10\n",
      "56/56 [==============================] - 34s 601ms/step - loss: 0.7962 - accuracy: 0.8685 - val_loss: 0.7739 - val_accuracy: 0.8876\n"
     ]
    },
    {
     "data": {
      "text/plain": "<keras.callbacks.History at 0x18c8d3763d0>"
     },
     "execution_count": 20,
     "metadata": {},
     "output_type": "execute_result"
    }
   ],
   "source": [
    "model.fit(train_sequences,train_label,epochs=epochs,validation_data=(test_sequences,test_label),callbacks=callbacks)"
   ],
   "metadata": {
    "collapsed": false,
    "pycharm": {
     "name": "#%%\n"
    }
   }
  },
  {
   "cell_type": "code",
   "execution_count": 24,
   "outputs": [
    {
     "name": "stdout",
     "output_type": "stream",
     "text": [
      "Epoch 1/10\n",
      "56/56 [==============================] - 32s 575ms/step - loss: 0.7798 - accuracy: 0.8646 - val_loss: 0.7579 - val_accuracy: 0.8809\n",
      "Epoch 2/10\n",
      "56/56 [==============================] - 36s 641ms/step - loss: 0.7626 - accuracy: 0.8753 - val_loss: 0.7384 - val_accuracy: 0.8921\n",
      "Epoch 3/10\n",
      "56/56 [==============================] - 36s 637ms/step - loss: 0.7444 - accuracy: 0.8747 - val_loss: 0.7217 - val_accuracy: 0.8899\n",
      "Epoch 4/10\n",
      "56/56 [==============================] - 36s 636ms/step - loss: 0.7247 - accuracy: 0.8770 - val_loss: 0.7056 - val_accuracy: 0.8899\n",
      "Epoch 5/10\n",
      "56/56 [==============================] - 33s 597ms/step - loss: 0.7116 - accuracy: 0.8747 - val_loss: 0.6876 - val_accuracy: 0.8944\n",
      "Epoch 6/10\n",
      "56/56 [==============================] - 33s 596ms/step - loss: 0.6964 - accuracy: 0.8815 - val_loss: 0.6724 - val_accuracy: 0.8966\n",
      "Epoch 7/10\n",
      "56/56 [==============================] - 35s 624ms/step - loss: 0.6794 - accuracy: 0.8904 - val_loss: 0.6566 - val_accuracy: 0.8989\n",
      "Epoch 8/10\n",
      "56/56 [==============================] - 36s 634ms/step - loss: 0.6622 - accuracy: 0.8899 - val_loss: 0.6417 - val_accuracy: 0.8966\n",
      "Epoch 9/10\n",
      "56/56 [==============================] - 35s 618ms/step - loss: 0.6501 - accuracy: 0.8882 - val_loss: 0.6250 - val_accuracy: 0.9056\n",
      "Epoch 10/10\n",
      "56/56 [==============================] - 34s 602ms/step - loss: 0.6315 - accuracy: 0.8921 - val_loss: 0.6110 - val_accuracy: 0.9124\n"
     ]
    },
    {
     "data": {
      "text/plain": "<keras.callbacks.History at 0x18c9125b8e0>"
     },
     "execution_count": 24,
     "metadata": {},
     "output_type": "execute_result"
    }
   ],
   "source": [
    "model.fit(train_sequences,train_label,epochs=epochs,validation_data=(test_sequences,test_label),callbacks=callbacks)"
   ],
   "metadata": {
    "collapsed": false,
    "pycharm": {
     "name": "#%%\n"
    }
   }
  },
  {
   "cell_type": "code",
   "execution_count": 29,
   "outputs": [
    {
     "name": "stdout",
     "output_type": "stream",
     "text": [
      "Epoch 1/10\n",
      "56/56 [==============================] - 25s 440ms/step - loss: 0.6208 - accuracy: 0.8893 - val_loss: 0.5965 - val_accuracy: 0.9124\n",
      "Epoch 2/10\n",
      "56/56 [==============================] - 31s 559ms/step - loss: 0.6001 - accuracy: 0.8989 - val_loss: 0.5827 - val_accuracy: 0.9169\n",
      "Epoch 3/10\n",
      "56/56 [==============================] - 31s 560ms/step - loss: 0.5919 - accuracy: 0.8972 - val_loss: 0.5694 - val_accuracy: 0.9191\n",
      "Epoch 4/10\n",
      "56/56 [==============================] - 33s 584ms/step - loss: 0.5824 - accuracy: 0.8933 - val_loss: 0.5569 - val_accuracy: 0.9213\n",
      "Epoch 5/10\n",
      "56/56 [==============================] - 34s 605ms/step - loss: 0.5663 - accuracy: 0.9011 - val_loss: 0.5478 - val_accuracy: 0.9191\n",
      "Epoch 6/10\n",
      "56/56 [==============================] - 34s 617ms/step - loss: 0.5530 - accuracy: 0.9051 - val_loss: 0.5336 - val_accuracy: 0.9326\n",
      "Epoch 7/10\n",
      "56/56 [==============================] - 33s 597ms/step - loss: 0.5405 - accuracy: 0.9034 - val_loss: 0.5215 - val_accuracy: 0.9303\n",
      "Epoch 8/10\n",
      "56/56 [==============================] - 35s 621ms/step - loss: 0.5262 - accuracy: 0.9107 - val_loss: 0.5114 - val_accuracy: 0.9236\n",
      "Epoch 9/10\n",
      "56/56 [==============================] - 34s 616ms/step - loss: 0.5183 - accuracy: 0.9112 - val_loss: 0.4992 - val_accuracy: 0.9348\n",
      "Epoch 10/10\n",
      "56/56 [==============================] - 33s 595ms/step - loss: 0.5022 - accuracy: 0.9118 - val_loss: 0.4884 - val_accuracy: 0.9326\n"
     ]
    },
    {
     "data": {
      "text/plain": "<keras.callbacks.History at 0x18c8d7bf100>"
     },
     "execution_count": 29,
     "metadata": {},
     "output_type": "execute_result"
    }
   ],
   "source": [
    "model.fit(train_sequences,train_label,epochs=epochs,validation_data=(test_sequences,test_label),callbacks=callbacks)"
   ],
   "metadata": {
    "collapsed": false,
    "pycharm": {
     "name": "#%%\n"
    }
   }
  },
  {
   "cell_type": "code",
   "execution_count": 33,
   "outputs": [
    {
     "name": "stdout",
     "output_type": "stream",
     "text": [
      "Epoch 1/10\n",
      "56/56 [==============================] - 36s 636ms/step - loss: 0.4922 - accuracy: 0.9140 - val_loss: 0.4782 - val_accuracy: 0.9348\n",
      "Epoch 2/10\n",
      "56/56 [==============================] - 34s 613ms/step - loss: 0.4833 - accuracy: 0.9140 - val_loss: 0.4695 - val_accuracy: 0.9326\n",
      "Epoch 3/10\n",
      "56/56 [==============================] - 35s 631ms/step - loss: 0.4781 - accuracy: 0.9129 - val_loss: 0.4591 - val_accuracy: 0.9326\n",
      "Epoch 4/10\n",
      "56/56 [==============================] - 35s 619ms/step - loss: 0.4630 - accuracy: 0.9236 - val_loss: 0.4490 - val_accuracy: 0.9371\n",
      "Epoch 5/10\n",
      "56/56 [==============================] - 36s 644ms/step - loss: 0.4544 - accuracy: 0.9152 - val_loss: 0.4406 - val_accuracy: 0.9416\n",
      "Epoch 6/10\n",
      "56/56 [==============================] - 34s 608ms/step - loss: 0.4449 - accuracy: 0.9140 - val_loss: 0.4333 - val_accuracy: 0.9348\n",
      "Epoch 7/10\n",
      "56/56 [==============================] - 35s 623ms/step - loss: 0.4340 - accuracy: 0.9197 - val_loss: 0.4239 - val_accuracy: 0.9393\n",
      "Epoch 8/10\n",
      "56/56 [==============================] - 34s 611ms/step - loss: 0.4266 - accuracy: 0.9191 - val_loss: 0.4161 - val_accuracy: 0.9416\n",
      "Epoch 9/10\n",
      "56/56 [==============================] - 34s 606ms/step - loss: 0.4252 - accuracy: 0.9202 - val_loss: 0.4080 - val_accuracy: 0.9393\n",
      "Epoch 10/10\n",
      "56/56 [==============================] - 34s 602ms/step - loss: 0.4152 - accuracy: 0.9219 - val_loss: 0.4023 - val_accuracy: 0.9393\n"
     ]
    },
    {
     "data": {
      "text/plain": "<keras.callbacks.History at 0x18c8d6de0d0>"
     },
     "execution_count": 33,
     "metadata": {},
     "output_type": "execute_result"
    }
   ],
   "source": [
    "model.fit(train_sequences,train_label,epochs=epochs,validation_data=(test_sequences,test_label),callbacks=callbacks)"
   ],
   "metadata": {
    "collapsed": false,
    "pycharm": {
     "name": "#%%\n"
    }
   }
  },
  {
   "cell_type": "code",
   "execution_count": 34,
   "outputs": [
    {
     "name": "stdout",
     "output_type": "stream",
     "text": [
      "Keras weights file (<HDF5 file \"variables.h5\" (mode r+)>) saving:\n",
      "...layers\\bidirectional\n",
      "......vars\n",
      "...layers\\bidirectional\\backward_layer\n",
      "......vars\n",
      "...layers\\bidirectional\\backward_layer\\cell\n",
      "......vars\n",
      ".........0\n",
      ".........1\n",
      ".........2\n",
      "...layers\\bidirectional\\forward_layer\n",
      "......vars\n",
      "...layers\\bidirectional\\forward_layer\\cell\n",
      "......vars\n",
      ".........0\n",
      ".........1\n",
      ".........2\n",
      "...layers\\bidirectional\\layer\n",
      "......vars\n",
      "...layers\\bidirectional\\layer\\cell\n",
      "......vars\n",
      "...layers\\conv2d\n",
      "......vars\n",
      ".........0\n",
      ".........1\n",
      "...layers\\dense\n",
      "......vars\n",
      ".........0\n",
      ".........1\n",
      "...layers\\dropout\n",
      "......vars\n",
      "...layers\\dropout_1\n",
      "......vars\n",
      "...layers\\dropout_2\n",
      "......vars\n",
      "...layers\\embedding\n",
      "......vars\n",
      ".........0\n",
      "...layers\\flatten\n",
      "......vars\n",
      "...layers\\max_pooling2d\n",
      "......vars\n",
      "...layers\\reshape\n",
      "......vars\n",
      "...metrics\\mean\n",
      "......vars\n",
      ".........0\n",
      ".........1\n",
      "...metrics\\mean_metric_wrapper\n",
      "......vars\n",
      ".........0\n",
      ".........1\n",
      "...optimizer\n",
      "......vars\n",
      ".........0\n",
      ".........1\n",
      ".........10\n",
      ".........11\n",
      ".........12\n",
      ".........13\n",
      ".........14\n",
      ".........15\n",
      ".........16\n",
      ".........17\n",
      ".........18\n",
      ".........19\n",
      ".........2\n",
      ".........20\n",
      ".........3\n",
      ".........4\n",
      ".........5\n",
      ".........6\n",
      ".........7\n",
      ".........8\n",
      ".........9\n",
      "...vars\n",
      "Keras model archive saving:\n",
      "File Name                                             Modified             Size\n",
      "config.json                                    2023-02-19 01:25:48         3813\n",
      "metadata.json                                  2023-02-19 01:25:48           64\n",
      "variables.h5                                   2023-02-19 01:25:48     36221880\n"
     ]
    },
    {
     "data": {
      "text/plain": "['文本分类.pkl']"
     },
     "execution_count": 34,
     "metadata": {},
     "output_type": "execute_result"
    }
   ],
   "source": [
    "import joblib\n",
    "joblib.dump(model,\"文本分类.pkl\")"
   ],
   "metadata": {
    "collapsed": false,
    "pycharm": {
     "name": "#%%\n"
    }
   }
  },
  {
   "cell_type": "code",
   "execution_count": 35,
   "outputs": [
    {
     "data": {
      "text/plain": "<Figure size 640x480 with 1 Axes>",
      "image/png": "[encoded data removed]"
     },
     "metadata": {},
     "output_type": "display_data"
    },
    {
     "data": {
      "text/plain": "<Figure size 640x480 with 1 Axes>",
      "image/png": "[encoded data removed]"
     },
     "metadata": {},
     "output_type": "display_data"
    }
   ],
   "source": [
    "history = model.history\n",
    "def plot_graphs(history, string):\n",
    "  plt.plot(history.history[string])\n",
    "  plt.plot(history.history['val_'+string])\n",
    "  plt.xlabel(\"Epochs\")\n",
    "  plt.ylabel(string)\n",
    "  plt.legend([string, 'val_'+string])\n",
    "  plt.show()\n",
    "\n",
    "plot_graphs(history, \"accuracy\")\n",
    "plot_graphs(history, \"loss\");"
   ],
   "metadata": {
    "collapsed": false,
    "pycharm": {
     "name": "#%%\n"
    }
   }
  },
  {
   "cell_type": "code",
   "execution_count": 36,
   "outputs": [
    {
     "name": "stdout",
     "output_type": "stream",
     "text": [
      "Keras weights file (<HDF5 file \"variables.h5\" (mode r+)>) saving:\n",
      "...layers\\bidirectional\n",
      "......vars\n",
      "...layers\\bidirectional\\backward_layer\n",
      "......vars\n",
      "...layers\\bidirectional\\backward_layer\\cell\n",
      "......vars\n",
      ".........0\n",
      ".........1\n",
      ".........2\n",
      "...layers\\bidirectional\\forward_layer\n",
      "......vars\n",
      "...layers\\bidirectional\\forward_layer\\cell\n",
      "......vars\n",
      ".........0\n",
      ".........1\n",
      ".........2\n",
      "...layers\\bidirectional\\layer\n",
      "......vars\n",
      "...layers\\bidirectional\\layer\\cell\n",
      "......vars\n",
      "...layers\\conv2d\n",
      "......vars\n",
      ".........0\n",
      ".........1\n",
      "...layers\\dense\n",
      "......vars\n",
      ".........0\n",
      ".........1\n",
      "...layers\\dropout\n",
      "......vars\n",
      "...layers\\dropout_1\n",
      "......vars\n",
      "...layers\\dropout_2\n",
      "......vars\n",
      "...layers\\embedding\n",
      "......vars\n",
      ".........0\n",
      "...layers\\flatten\n",
      "......vars\n",
      "...layers\\max_pooling2d\n",
      "......vars\n",
      "...layers\\reshape\n",
      "......vars\n",
      "...metrics\\mean\n",
      "......vars\n",
      ".........0\n",
      ".........1\n",
      "...metrics\\mean_metric_wrapper\n",
      "......vars\n",
      ".........0\n",
      ".........1\n",
      "...optimizer\n",
      "......vars\n",
      ".........0\n",
      ".........1\n",
      ".........10\n",
      ".........11\n",
      ".........12\n",
      ".........13\n",
      ".........14\n",
      ".........15\n",
      ".........16\n",
      ".........17\n",
      ".........18\n",
      ".........19\n",
      ".........2\n",
      ".........20\n",
      ".........3\n",
      ".........4\n",
      ".........5\n",
      ".........6\n",
      ".........7\n",
      ".........8\n",
      ".........9\n",
      "...vars\n",
      "Keras model archive saving:\n",
      "File Name                                             Modified             Size\n",
      "config.json                                    2023-02-19 01:25:56         3813\n",
      "metadata.json                                  2023-02-19 01:25:56           64\n",
      "variables.h5                                   2023-02-19 01:25:56     36221880\n"
     ]
    },
    {
     "data": {
      "text/plain": "['history文本分类.pkl']"
     },
     "execution_count": 36,
     "metadata": {},
     "output_type": "execute_result"
    }
   ],
   "source": [
    "joblib.dump(history,\"history文本分类.pkl\")"
   ],
   "metadata": {
    "collapsed": false,
    "pycharm": {
     "name": "#%%\n"
    }
   }
  },
  {
   "cell_type": "code",
   "execution_count": null,
   "outputs": [],
   "source": [],
   "metadata": {
    "collapsed": false,
    "pycharm": {
     "name": "#%%\n"
    }
   }
  }
 ],
 "metadata": {
  "kernelspec": {
   "display_name": "Python 3",
   "language": "python",
   "name": "python3"
  },
  "language_info": {
   "codemirror_mode": {
    "name": "ipython",
    "version": 2
   },
   "file_extension": ".py",
   "mimetype": "text/x-python",
   "name": "python",
   "nbconvert_exporter": "python",
   "pygments_lexer": "ipython2",
   "version": "2.7.6"
  }
 },
 "nbformat": 4,
 "nbformat_minor": 0
}