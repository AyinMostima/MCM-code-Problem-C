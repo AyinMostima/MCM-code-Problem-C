{
 "cells": [
  {
   "cell_type": "code",
   "execution_count": 1,
   "metadata": {
    "collapsed": true
   },
   "outputs": [],
   "source": [
    "import numpy as np\n",
    "from keras.utils import pad_sequences\n",
    "from keras.preprocessing.text import Tokenizer,tokenizer_from_json\n",
    "import pandas as pd\n",
    "from nltk.corpus import stopwords\n",
    "import re\n",
    "import json\n",
    "STOPWORDS = set(stopwords.words('english'))\n",
    "import os"
   ]
  },
  {
   "cell_type": "code",
   "execution_count": 2,
   "outputs": [],
   "source": [
    "embedding_dim=100\n",
    "oov_token = '<OOV>'\n",
    "train_test_split = 0.8\n",
    "max_len = 200\n",
    "trunc_type = 'post'\n",
    "padding_type = 'post'"
   ],
   "metadata": {
    "collapsed": false,
    "pycharm": {
     "name": "#%%\n"
    }
   }
  },
  {
   "cell_type": "code",
   "execution_count": 3,
   "outputs": [],
   "source": [
    "df = pd.read_csv(\"../unsup.csv\")\n",
    "df[\"label\"]=df[\"label\"].replace({1,0},{\"Positive\",\"Negative\"})\n",
    "labels = df.get('label').values.tolist()\n",
    "articles = df.get('sentence').values.tolist()\n",
    "for i in range(len(articles)):\n",
    "    for word in STOPWORDS:\n",
    "        token = ' '+word+' '\n",
    "        articles[i] = articles[i].replace(token,' ')\n",
    "        articles[i] = re.sub(r'\\s+', ' ',articles[i])"
   ],
   "metadata": {
    "collapsed": false,
    "pycharm": {
     "name": "#%%\n"
    }
   }
  },
  {
   "cell_type": "code",
   "execution_count": 4,
   "outputs": [],
   "source": [
    "tokenizer = Tokenizer(oov_token=oov_token)\n",
    "tokenizer.fit_on_texts(articles)\n",
    "sequences = tokenizer.texts_to_sequences(articles)\n",
    "article_sequences = pad_sequences(sequences,maxlen=max_len,truncating=trunc_type,padding=padding_type)\n",
    "word_index = tokenizer.word_index\n",
    "vocab_size = len(word_index)\n",
    "\n",
    "split_index = int(len(article_sequences)*train_test_split)\n",
    "train_sequences = np.array(article_sequences[0:split_index])\n",
    "test_sequences = np.array(article_sequences[split_index:])\n",
    "\n",
    "label_tokenizer = Tokenizer()\n",
    "label_tokenizer.fit_on_texts(labels)\n",
    "label_sequences = label_tokenizer.texts_to_sequences(labels)\n",
    "train_label = np.array(label_sequences[0:split_index])\n",
    "test_label = np.array(label_sequences[split_index:])"
   ],
   "metadata": {
    "collapsed": false,
    "pycharm": {
     "name": "#%%\n"
    }
   }
  },
  {
   "cell_type": "code",
   "execution_count": 5,
   "outputs": [],
   "source": [
    "tokenizer_json = tokenizer.to_json()\n",
    "label_tokenizer_json = label_tokenizer.to_json()"
   ],
   "metadata": {
    "collapsed": false,
    "pycharm": {
     "name": "#%%\n"
    }
   }
  },
  {
   "cell_type": "code",
   "execution_count": 6,
   "outputs": [],
   "source": [
    "embeddings_index = {};\n",
    "with open('../../glove.6B.100d.txt',encoding='utf-8') as f:\n",
    "    for line in f:\n",
    "        values = line.split();\n",
    "        word = values[0];\n",
    "        coefs = np.asarray(values[1:], dtype='float32')\n",
    "        embeddings_index[word] = coefs;\n",
    "\n",
    "embeddings_matrix = np.zeros((vocab_size+1, embedding_dim))\n",
    "for word, i in word_index.items():\n",
    "    embedding_vector = embeddings_index.get(word)\n",
    "    if embedding_vector is not None:\n",
    "        embeddings_matrix[i] = embedding_vector"
   ],
   "metadata": {
    "collapsed": false,
    "pycharm": {
     "name": "#%%\n"
    }
   }
  },
  {
   "cell_type": "code",
   "execution_count": 7,
   "outputs": [],
   "source": [
    "if not os.path.exists('tokenizer.json'):\n",
    "    with open('tokenizer.json', 'w', encoding='utf-8') as f:\n",
    "        f.write(json.dumps(tokenizer_json, ensure_ascii=False))\n",
    "if not os.path.exists('label_tokenizer_json.json'):\n",
    "    with open('label_tokenizer_json.json', 'w', encoding='utf-8') as f:\n",
    "        f.write(json.dumps(label_tokenizer_json, ensure_ascii=False))"
   ],
   "metadata": {
    "collapsed": false,
    "pycharm": {
     "name": "#%%\n"
    }
   }
  },
  {
   "cell_type": "code",
   "execution_count": 8,
   "outputs": [],
   "source": [
    "np.save('train_sequences.npy',train_sequences)\n",
    "np.save('train_label.npy',train_label)\n",
    "np.save('test_sequences.npy',test_sequences)\n",
    "np.save('test_label.npy',test_label)\n",
    "np.save('embeddings_matrix.npy',embeddings_matrix)"
   ],
   "metadata": {
    "collapsed": false,
    "pycharm": {
     "name": "#%%\n"
    }
   }
  },
  {
   "cell_type": "code",
   "execution_count": 9,
   "outputs": [
    {
     "name": "stdout",
     "output_type": "stream",
     "text": [
      "(7690, 200)\n",
      "(7690, 1)\n",
      "(1923, 200)\n",
      "(1923, 1)\n",
      "17077\n",
      "11\n"
     ]
    }
   ],
   "source": [
    "print(train_sequences.shape)\n",
    "print(train_label.shape)\n",
    "print(test_sequences.shape)\n",
    "print(test_label.shape)\n",
    "print(vocab_size)\n",
    "print(word_index['i'])"
   ],
   "metadata": {
    "collapsed": false,
    "pycharm": {
     "name": "#%%\n"
    }
   }
  },
  {
   "cell_type": "code",
   "execution_count": 2,
   "outputs": [],
   "source": [
    "import numpy as np\n",
    "from keras.models import Sequential\n",
    "from keras.layers import Dropout, Flatten, Dense, LSTM, Embedding,Conv2D,Bidirectional,MaxPool2D,Reshape\n",
    "from keras.models import load_model\n",
    "from keras.preprocessing.text import Tokenizer,tokenizer_from_json\n",
    "from keras.callbacks import ModelCheckpoint\n",
    "import json\n",
    "import os\n",
    "import datetime as dt\n",
    "from matplotlib import pyplot as plt"
   ],
   "metadata": {
    "collapsed": false,
    "pycharm": {
     "name": "#%%\n"
    }
   }
  },
  {
   "cell_type": "code",
   "execution_count": 11,
   "outputs": [],
   "source": [
    "with open('tokenizer.json', 'r', encoding='utf-8') as f1:\n",
    "    tokenizer_config = json.load(f1)\n",
    "with open('label_tokenizer_json.json', 'r', encoding='utf-8') as f2:\n",
    "    label_tokenizer_config = json.load(f2)"
   ],
   "metadata": {
    "collapsed": false,
    "pycharm": {
     "name": "#%%\n"
    }
   }
  },
  {
   "cell_type": "code",
   "execution_count": 3,
   "outputs": [],
   "source": [
    "train_sequences= np.load('train_sequences.npy')\n",
    "train_label= np.load('train_label.npy')\n",
    "test_sequences = np.load('test_sequences.npy')\n",
    "test_label= np.load('test_label.npy')\n",
    "embeddings_matrix= np.load('embeddings_matrix.npy')"
   ],
   "metadata": {
    "collapsed": false,
    "pycharm": {
     "name": "#%%\n"
    }
   }
  },
  {
   "cell_type": "code",
   "execution_count": 13,
   "outputs": [],
   "source": [
    "tokenizer = tokenizer_from_json(tokenizer_config)\n",
    "label_tokenizer = tokenizer_from_json(label_tokenizer_config)"
   ],
   "metadata": {
    "collapsed": false,
    "pycharm": {
     "name": "#%%\n"
    }
   }
  },
  {
   "cell_type": "code",
   "execution_count": 14,
   "outputs": [],
   "source": [
    "embedding_dim = 100\n",
    "word_index = word_index\n",
    "vocab_size = vocab_size\n",
    "max_len = 200\n",
    "rnn_units = 100"
   ],
   "metadata": {
    "collapsed": false,
    "pycharm": {
     "name": "#%%\n"
    }
   }
  },
  {
   "cell_type": "code",
   "execution_count": 15,
   "outputs": [
    {
     "name": "stdout",
     "output_type": "stream",
     "text": [
      "Model: \"sequential\"\n",
      "_________________________________________________________________\n",
      " Layer (type)                Output Shape              Param #   \n",
      "=================================================================\n",
      " embedding (Embedding)       (None, 200, 100)          1707800   \n",
      "                                                                 \n",
      " dropout (Dropout)           (None, 200, 100)          0         \n",
      "                                                                 \n",
      " bidirectional (Bidirectiona  (None, 200, 100)         160800    \n",
      " l)                                                              \n",
      "                                                                 \n",
      " dropout_1 (Dropout)         (None, 200, 100)          0         \n",
      "                                                                 \n",
      " reshape (Reshape)           (None, 200, 100, 1)       0         \n",
      "                                                                 \n",
      " conv2d (Conv2D)             (None, 198, 98, 64)       640       \n",
      "                                                                 \n",
      " max_pooling2d (MaxPooling2D  (None, 99, 49, 64)       0         \n",
      " )                                                               \n",
      "                                                                 \n",
      " dropout_2 (Dropout)         (None, 99, 49, 64)        0         \n",
      "                                                                 \n",
      " flatten (Flatten)           (None, 310464)            0         \n",
      "                                                                 \n",
      " dense (Dense)               (None, 3)                 931395    \n",
      "                                                                 \n",
      "=================================================================\n",
      "Total params: 2,800,635\n",
      "Trainable params: 1,092,835\n",
      "Non-trainable params: 1,707,800\n",
      "_________________________________________________________________\n"
     ]
    }
   ],
   "source": [
    "model = Sequential()\n",
    "model.add(Embedding(vocab_size+1,embedding_dim,input_length=max_len,weights=[embeddings_matrix], trainable=False))\n",
    "model.add(Dropout(0.5))\n",
    "model.add(Bidirectional(LSTM(rnn_units,return_sequences=True),merge_mode='sum'))\n",
    "model.add(Dropout(0.2))\n",
    "model.add(Reshape((-1,rnn_units,1)))\n",
    "model.add(Conv2D(64,kernel_size=(3,3),activation='relu'))\n",
    "model.add(MaxPool2D(pool_size=(2,2)))\n",
    "model.add(Dropout(0.4))\n",
    "model.add(Flatten())\n",
    "model.add(Dense(3,activation='softmax'))\n",
    "model.compile(loss='sparse_categorical_crossentropy', optimizer='adadelta',metrics=['accuracy'])\n",
    "model.summary()"
   ],
   "metadata": {
    "collapsed": false,
    "pycharm": {
     "name": "#%%\n"
    }
   }
  },
  {
   "cell_type": "code",
   "execution_count": 16,
   "outputs": [
    {
     "name": "stdout",
     "output_type": "stream",
     "text": [
      "Epoch 1/10\n",
      "241/241 [==============================] - 114s 451ms/step - loss: 1.0424 - accuracy: 0.4983 - val_loss: 1.0115 - val_accuracy: 0.5231\n",
      "Epoch 2/10\n",
      "241/241 [==============================] - 86s 355ms/step - loss: 0.9420 - accuracy: 0.5254 - val_loss: 0.9338 - val_accuracy: 0.4977\n",
      "Epoch 3/10\n",
      "241/241 [==============================] - 76s 317ms/step - loss: 0.8604 - accuracy: 0.5202 - val_loss: 0.8573 - val_accuracy: 0.4977\n",
      "Epoch 4/10\n",
      "241/241 [==============================] - 99s 411ms/step - loss: 0.7936 - accuracy: 0.5208 - val_loss: 0.7940 - val_accuracy: 0.4977\n",
      "Epoch 5/10\n",
      "241/241 [==============================] - 140s 583ms/step - loss: 0.7494 - accuracy: 0.5213 - val_loss: 0.7542 - val_accuracy: 0.4977\n",
      "Epoch 6/10\n",
      "241/241 [==============================] - 135s 560ms/step - loss: 0.7257 - accuracy: 0.5213 - val_loss: 0.7316 - val_accuracy: 0.4977\n",
      "Epoch 7/10\n",
      "241/241 [==============================] - 89s 368ms/step - loss: 0.7124 - accuracy: 0.5303 - val_loss: 0.7198 - val_accuracy: 0.4977\n",
      "Epoch 8/10\n",
      "241/241 [==============================] - 102s 422ms/step - loss: 0.7058 - accuracy: 0.5257 - val_loss: 0.7117 - val_accuracy: 0.4977\n",
      "Epoch 9/10\n",
      "241/241 [==============================] - 100s 414ms/step - loss: 0.7014 - accuracy: 0.5276 - val_loss: 0.7069 - val_accuracy: 0.4977\n",
      "Epoch 10/10\n",
      "241/241 [==============================] - 101s 417ms/step - loss: 0.6987 - accuracy: 0.5243 - val_loss: 0.7028 - val_accuracy: 0.4987\n"
     ]
    },
    {
     "data": {
      "text/plain": "<keras.callbacks.History at 0x22cdb031970>"
     },
     "execution_count": 16,
     "metadata": {},
     "output_type": "execute_result"
    }
   ],
   "source": [
    "epochs = 10\n",
    "save_dir = './saved_model'\n",
    "save_fname = os.path.join(save_dir, \"情感2.h5\")\n",
    "callbacks = [ModelCheckpoint(filepath=save_fname, monitor='loss', save_best_only=True)]\n",
    "model.fit(train_sequences,train_label,epochs=epochs,validation_data=(test_sequences,test_label),callbacks=callbacks)"
   ],
   "metadata": {
    "collapsed": false,
    "pycharm": {
     "name": "#%%\n"
    }
   }
  },
  {
   "cell_type": "code",
   "execution_count": 17,
   "outputs": [
    {
     "name": "stdout",
     "output_type": "stream",
     "text": [
      "Epoch 1/10\n",
      "241/241 [==============================] - 130s 541ms/step - loss: 0.6961 - accuracy: 0.5343 - val_loss: 0.7003 - val_accuracy: 0.4982\n",
      "Epoch 2/10\n",
      "241/241 [==============================] - 134s 557ms/step - loss: 0.6947 - accuracy: 0.5368 - val_loss: 0.6983 - val_accuracy: 0.4982\n",
      "Epoch 3/10\n",
      "241/241 [==============================] - 115s 477ms/step - loss: 0.6931 - accuracy: 0.5315 - val_loss: 0.6960 - val_accuracy: 0.5517\n",
      "Epoch 4/10\n",
      "241/241 [==============================] - 99s 412ms/step - loss: 0.6923 - accuracy: 0.5430 - val_loss: 0.6949 - val_accuracy: 0.5096\n",
      "Epoch 5/10\n",
      "241/241 [==============================] - 101s 418ms/step - loss: 0.6916 - accuracy: 0.5380 - val_loss: 0.6933 - val_accuracy: 0.5741\n",
      "Epoch 6/10\n",
      "241/241 [==============================] - 101s 418ms/step - loss: 0.6907 - accuracy: 0.5490 - val_loss: 0.6921 - val_accuracy: 0.5819\n",
      "Epoch 7/10\n",
      "241/241 [==============================] - 100s 416ms/step - loss: 0.6892 - accuracy: 0.5538 - val_loss: 0.6911 - val_accuracy: 0.5913\n",
      "Epoch 8/10\n",
      "241/241 [==============================] - 116s 481ms/step - loss: 0.6892 - accuracy: 0.5482 - val_loss: 0.6902 - val_accuracy: 0.5855\n",
      "Epoch 9/10\n",
      "241/241 [==============================] - 144s 599ms/step - loss: 0.6883 - accuracy: 0.5590 - val_loss: 0.6898 - val_accuracy: 0.5351\n",
      "Epoch 10/10\n",
      "241/241 [==============================] - 141s 584ms/step - loss: 0.6880 - accuracy: 0.5575 - val_loss: 0.6894 - val_accuracy: 0.5101\n"
     ]
    },
    {
     "data": {
      "text/plain": "<keras.callbacks.History at 0x22c80531730>"
     },
     "execution_count": 17,
     "metadata": {},
     "output_type": "execute_result"
    }
   ],
   "source": [
    "model.fit(train_sequences,train_label,epochs=epochs,validation_data=(test_sequences,test_label),callbacks=callbacks)"
   ],
   "metadata": {
    "collapsed": false,
    "pycharm": {
     "name": "#%%\n"
    }
   }
  },
  {
   "cell_type": "code",
   "execution_count": 23,
   "outputs": [
    {
     "name": "stdout",
     "output_type": "stream",
     "text": [
      "Epoch 1/10\n",
      "241/241 [==============================] - 117s 473ms/step - loss: 0.6875 - accuracy: 0.5610 - val_loss: 0.6885 - val_accuracy: 0.5211\n",
      "Epoch 2/10\n",
      "241/241 [==============================] - 149s 620ms/step - loss: 0.6871 - accuracy: 0.5547 - val_loss: 0.6876 - val_accuracy: 0.5387\n",
      "Epoch 3/10\n",
      "241/241 [==============================] - 147s 609ms/step - loss: 0.6864 - accuracy: 0.5585 - val_loss: 0.6860 - val_accuracy: 0.6479\n",
      "Epoch 4/10\n",
      "241/241 [==============================] - 111s 459ms/step - loss: 0.6858 - accuracy: 0.5767 - val_loss: 0.6858 - val_accuracy: 0.5788\n",
      "Epoch 5/10\n",
      "241/241 [==============================] - 104s 430ms/step - loss: 0.6851 - accuracy: 0.5691 - val_loss: 0.6850 - val_accuracy: 0.5970\n",
      "Epoch 6/10\n",
      "241/241 [==============================] - 104s 431ms/step - loss: 0.6850 - accuracy: 0.5666 - val_loss: 0.6843 - val_accuracy: 0.6058\n",
      "Epoch 7/10\n",
      "241/241 [==============================] - 106s 440ms/step - loss: 0.6847 - accuracy: 0.5707 - val_loss: 0.6835 - val_accuracy: 0.6225\n",
      "Epoch 8/10\n",
      "241/241 [==============================] - 109s 452ms/step - loss: 0.6840 - accuracy: 0.5752 - val_loss: 0.6832 - val_accuracy: 0.5798\n",
      "Epoch 9/10\n",
      "241/241 [==============================] - 107s 445ms/step - loss: 0.6832 - accuracy: 0.5739 - val_loss: 0.6822 - val_accuracy: 0.6214\n",
      "Epoch 10/10\n",
      "241/241 [==============================] - 101s 419ms/step - loss: 0.6830 - accuracy: 0.5784 - val_loss: 0.6815 - val_accuracy: 0.6230\n"
     ]
    },
    {
     "data": {
      "text/plain": "<keras.callbacks.History at 0x22cdae89be0>"
     },
     "execution_count": 23,
     "metadata": {},
     "output_type": "execute_result"
    }
   ],
   "source": [
    "model.fit(train_sequences,train_label,epochs=epochs,validation_data=(test_sequences,test_label),callbacks=callbacks)"
   ],
   "metadata": {
    "collapsed": false,
    "pycharm": {
     "name": "#%%\n"
    }
   }
  },
  {
   "cell_type": "code",
   "execution_count": 26,
   "outputs": [
    {
     "name": "stdout",
     "output_type": "stream",
     "text": [
      "Epoch 1/10\n",
      "241/241 [==============================] - 141s 584ms/step - loss: 0.6819 - accuracy: 0.5912 - val_loss: 0.6813 - val_accuracy: 0.5855\n",
      "Epoch 2/10\n",
      "241/241 [==============================] - 143s 592ms/step - loss: 0.6815 - accuracy: 0.5758 - val_loss: 0.6798 - val_accuracy: 0.6708\n",
      "Epoch 3/10\n",
      "241/241 [==============================] - 106s 439ms/step - loss: 0.6808 - accuracy: 0.5978 - val_loss: 0.6799 - val_accuracy: 0.6022\n",
      "Epoch 4/10\n",
      "241/241 [==============================] - 102s 425ms/step - loss: 0.6811 - accuracy: 0.5800 - val_loss: 0.6784 - val_accuracy: 0.6708\n",
      "Epoch 5/10\n",
      "241/241 [==============================] - 101s 419ms/step - loss: 0.6800 - accuracy: 0.5977 - val_loss: 0.6781 - val_accuracy: 0.6318\n",
      "Epoch 6/10\n",
      "241/241 [==============================] - 104s 432ms/step - loss: 0.6795 - accuracy: 0.5965 - val_loss: 0.6771 - val_accuracy: 0.6594\n",
      "Epoch 7/10\n",
      "241/241 [==============================] - 123s 509ms/step - loss: 0.6783 - accuracy: 0.6060 - val_loss: 0.6767 - val_accuracy: 0.6339\n",
      "Epoch 8/10\n",
      "241/241 [==============================] - 148s 613ms/step - loss: 0.6783 - accuracy: 0.6044 - val_loss: 0.6764 - val_accuracy: 0.6147\n",
      "Epoch 9/10\n",
      "241/241 [==============================] - 147s 610ms/step - loss: 0.6780 - accuracy: 0.5944 - val_loss: 0.6754 - val_accuracy: 0.6323\n",
      "Epoch 10/10\n",
      "241/241 [==============================] - 109s 450ms/step - loss: 0.6775 - accuracy: 0.6004 - val_loss: 0.6746 - val_accuracy: 0.6344\n"
     ]
    },
    {
     "data": {
      "text/plain": "<keras.callbacks.History at 0x22c80fa5a00>"
     },
     "execution_count": 26,
     "metadata": {},
     "output_type": "execute_result"
    }
   ],
   "source": [
    "model.fit(train_sequences,train_label,epochs=epochs,validation_data=(test_sequences,test_label),callbacks=callbacks)"
   ],
   "metadata": {
    "collapsed": false,
    "pycharm": {
     "name": "#%%\n"
    }
   }
  },
  {
   "cell_type": "code",
   "execution_count": 29,
   "outputs": [
    {
     "name": "stdout",
     "output_type": "stream",
     "text": [
      "Epoch 1/10\n",
      "241/241 [==============================] - 114s 474ms/step - loss: 0.6768 - accuracy: 0.6057 - val_loss: 0.6740 - val_accuracy: 0.6303\n",
      "Epoch 2/10\n",
      "241/241 [==============================] - 111s 460ms/step - loss: 0.6755 - accuracy: 0.6010 - val_loss: 0.6723 - val_accuracy: 0.6947\n",
      "Epoch 3/10\n",
      "241/241 [==============================] - 108s 450ms/step - loss: 0.6752 - accuracy: 0.6215 - val_loss: 0.6722 - val_accuracy: 0.6459\n",
      "Epoch 4/10\n",
      "241/241 [==============================] - 107s 445ms/step - loss: 0.6751 - accuracy: 0.6159 - val_loss: 0.6712 - val_accuracy: 0.6599\n",
      "Epoch 5/10\n",
      "241/241 [==============================] - 108s 449ms/step - loss: 0.6744 - accuracy: 0.6173 - val_loss: 0.6708 - val_accuracy: 0.6427\n",
      "Epoch 6/10\n",
      "241/241 [==============================] - 109s 452ms/step - loss: 0.6740 - accuracy: 0.6103 - val_loss: 0.6694 - val_accuracy: 0.6729\n",
      "Epoch 7/10\n",
      "241/241 [==============================] - 111s 462ms/step - loss: 0.6726 - accuracy: 0.6273 - val_loss: 0.6692 - val_accuracy: 0.6422\n",
      "Epoch 8/10\n",
      "241/241 [==============================] - 109s 454ms/step - loss: 0.6731 - accuracy: 0.6073 - val_loss: 0.6677 - val_accuracy: 0.6781\n",
      "Epoch 9/10\n",
      "241/241 [==============================] - 108s 449ms/step - loss: 0.6718 - accuracy: 0.6250 - val_loss: 0.6666 - val_accuracy: 0.6895\n",
      "Epoch 10/10\n",
      "241/241 [==============================] - 108s 450ms/step - loss: 0.6715 - accuracy: 0.6252 - val_loss: 0.6662 - val_accuracy: 0.6609\n"
     ]
    },
    {
     "data": {
      "text/plain": "<keras.callbacks.History at 0x22c8209ff70>"
     },
     "execution_count": 29,
     "metadata": {},
     "output_type": "execute_result"
    }
   ],
   "source": [
    "model.fit(train_sequences,train_label,epochs=epochs,validation_data=(test_sequences,test_label),callbacks=callbacks)"
   ],
   "metadata": {
    "collapsed": false,
    "pycharm": {
     "name": "#%%\n"
    }
   }
  },
  {
   "cell_type": "code",
   "execution_count": 5,
   "outputs": [
    {
     "name": "stdout",
     "output_type": "stream",
     "text": [
      "Epoch 1/10\n",
      "241/241 [==============================] - 112s 454ms/step - loss: 0.6703 - accuracy: 0.6226 - val_loss: 0.6654 - val_accuracy: 0.6583\n",
      "Epoch 2/10\n",
      "241/241 [==============================] - 109s 454ms/step - loss: 0.6704 - accuracy: 0.6231 - val_loss: 0.6647 - val_accuracy: 0.6542\n",
      "Epoch 3/10\n",
      "241/241 [==============================] - 115s 475ms/step - loss: 0.6689 - accuracy: 0.6285 - val_loss: 0.6634 - val_accuracy: 0.6667\n",
      "Epoch 4/10\n",
      "241/241 [==============================] - 108s 447ms/step - loss: 0.6689 - accuracy: 0.6226 - val_loss: 0.6620 - val_accuracy: 0.6989\n",
      "Epoch 5/10\n",
      "241/241 [==============================] - 106s 441ms/step - loss: 0.6679 - accuracy: 0.6328 - val_loss: 0.6611 - val_accuracy: 0.6994\n",
      "Epoch 6/10\n",
      "241/241 [==============================] - 104s 432ms/step - loss: 0.6676 - accuracy: 0.6390 - val_loss: 0.6607 - val_accuracy: 0.6677\n",
      "Epoch 7/10\n",
      "241/241 [==============================] - 106s 440ms/step - loss: 0.6653 - accuracy: 0.6402 - val_loss: 0.6593 - val_accuracy: 0.6828\n",
      "Epoch 8/10\n",
      "241/241 [==============================] - 104s 433ms/step - loss: 0.6652 - accuracy: 0.6384 - val_loss: 0.6583 - val_accuracy: 0.6802\n",
      "Epoch 9/10\n",
      "241/241 [==============================] - 105s 434ms/step - loss: 0.6647 - accuracy: 0.6412 - val_loss: 0.6571 - val_accuracy: 0.6968\n",
      "Epoch 10/10\n",
      "241/241 [==============================] - 103s 428ms/step - loss: 0.6646 - accuracy: 0.6463 - val_loss: 0.6564 - val_accuracy: 0.6729\n"
     ]
    },
    {
     "data": {
      "text/plain": "<keras.callbacks.History at 0x23e188d98b0>"
     },
     "execution_count": 5,
     "metadata": {},
     "output_type": "execute_result"
    }
   ],
   "source": [
    "epochs = 10\n",
    "save_dir = './saved_model'\n",
    "save_fname = os.path.join(save_dir, \"情感2.h5\")\n",
    "callbacks = [ModelCheckpoint(filepath=save_fname, monitor='loss', save_best_only=True)]\n",
    "model.fit(train_sequences,train_label,epochs=epochs,validation_data=(test_sequences,test_label),callbacks=callbacks)"
   ],
   "metadata": {
    "collapsed": false,
    "pycharm": {
     "name": "#%%\n"
    }
   }
  },
  {
   "cell_type": "code",
   "execution_count": 6,
   "outputs": [
    {
     "name": "stdout",
     "output_type": "stream",
     "text": [
      "Epoch 1/10\n",
      "241/241 [==============================] - 109s 454ms/step - loss: 0.6630 - accuracy: 0.6402 - val_loss: 0.6552 - val_accuracy: 0.6849\n",
      "Epoch 2/10\n",
      "241/241 [==============================] - 115s 478ms/step - loss: 0.6631 - accuracy: 0.6368 - val_loss: 0.6538 - val_accuracy: 0.7057\n",
      "Epoch 3/10\n",
      "241/241 [==============================] - 111s 462ms/step - loss: 0.6615 - accuracy: 0.6455 - val_loss: 0.6526 - val_accuracy: 0.7135\n",
      "Epoch 4/10\n",
      "241/241 [==============================] - 112s 464ms/step - loss: 0.6601 - accuracy: 0.6486 - val_loss: 0.6520 - val_accuracy: 0.6802\n",
      "Epoch 5/10\n",
      "241/241 [==============================] - 110s 458ms/step - loss: 0.6592 - accuracy: 0.6449 - val_loss: 0.6503 - val_accuracy: 0.7119\n",
      "Epoch 6/10\n",
      "241/241 [==============================] - 115s 479ms/step - loss: 0.6591 - accuracy: 0.6518 - val_loss: 0.6494 - val_accuracy: 0.6973\n",
      "Epoch 7/10\n",
      "241/241 [==============================] - 114s 472ms/step - loss: 0.6576 - accuracy: 0.6527 - val_loss: 0.6481 - val_accuracy: 0.7046\n",
      "Epoch 8/10\n",
      "241/241 [==============================] - 113s 471ms/step - loss: 0.6564 - accuracy: 0.6546 - val_loss: 0.6479 - val_accuracy: 0.6739\n",
      "Epoch 9/10\n",
      "241/241 [==============================] - 115s 479ms/step - loss: 0.6559 - accuracy: 0.6462 - val_loss: 0.6455 - val_accuracy: 0.7098\n",
      "Epoch 10/10\n",
      "241/241 [==============================] - 117s 484ms/step - loss: 0.6547 - accuracy: 0.6564 - val_loss: 0.6443 - val_accuracy: 0.7077\n"
     ]
    },
    {
     "data": {
      "text/plain": "<keras.callbacks.History at 0x23e18399700>"
     },
     "execution_count": 6,
     "metadata": {},
     "output_type": "execute_result"
    }
   ],
   "source": [
    "model.fit(train_sequences,train_label,epochs=epochs,validation_data=(test_sequences,test_label),callbacks=callbacks)"
   ],
   "metadata": {
    "collapsed": false,
    "pycharm": {
     "name": "#%%\n"
    }
   }
  },
  {
   "cell_type": "code",
   "execution_count": 9,
   "outputs": [
    {
     "name": "stdout",
     "output_type": "stream",
     "text": [
      "Epoch 1/10\n",
      "241/241 [==============================] - 115s 476ms/step - loss: 0.6543 - accuracy: 0.6521 - val_loss: 0.6432 - val_accuracy: 0.7036\n",
      "Epoch 2/10\n",
      "241/241 [==============================] - 113s 471ms/step - loss: 0.6533 - accuracy: 0.6560 - val_loss: 0.6420 - val_accuracy: 0.6994\n",
      "Epoch 3/10\n",
      "241/241 [==============================] - 111s 460ms/step - loss: 0.6524 - accuracy: 0.6601 - val_loss: 0.6410 - val_accuracy: 0.6906\n",
      "Epoch 4/10\n",
      "241/241 [==============================] - 111s 459ms/step - loss: 0.6521 - accuracy: 0.6505 - val_loss: 0.6393 - val_accuracy: 0.7093\n",
      "Epoch 5/10\n",
      "241/241 [==============================] - 113s 469ms/step - loss: 0.6518 - accuracy: 0.6497 - val_loss: 0.6380 - val_accuracy: 0.7057\n",
      "Epoch 6/10\n",
      "241/241 [==============================] - 115s 478ms/step - loss: 0.6491 - accuracy: 0.6610 - val_loss: 0.6371 - val_accuracy: 0.6927\n",
      "Epoch 7/10\n",
      "241/241 [==============================] - 114s 473ms/step - loss: 0.6504 - accuracy: 0.6494 - val_loss: 0.6359 - val_accuracy: 0.6947\n",
      "Epoch 8/10\n",
      "241/241 [==============================] - 116s 480ms/step - loss: 0.6479 - accuracy: 0.6571 - val_loss: 0.6346 - val_accuracy: 0.6947\n",
      "Epoch 9/10\n",
      "241/241 [==============================] - 112s 466ms/step - loss: 0.6466 - accuracy: 0.6568 - val_loss: 0.6328 - val_accuracy: 0.7046\n",
      "Epoch 10/10\n",
      "241/241 [==============================] - 116s 481ms/step - loss: 0.6459 - accuracy: 0.6623 - val_loss: 0.6313 - val_accuracy: 0.7140\n"
     ]
    },
    {
     "data": {
      "text/plain": "<keras.callbacks.History at 0x23e183c04f0>"
     },
     "execution_count": 9,
     "metadata": {},
     "output_type": "execute_result"
    }
   ],
   "source": [
    "model.fit(train_sequences,train_label,epochs=epochs,validation_data=(test_sequences,test_label),callbacks=callbacks)"
   ],
   "metadata": {
    "collapsed": false,
    "pycharm": {
     "name": "#%%\n"
    }
   }
  },
  {
   "cell_type": "code",
   "execution_count": 11,
   "outputs": [
    {
     "name": "stdout",
     "output_type": "stream",
     "text": [
      "Epoch 1/10\n",
      "241/241 [==============================] - 108s 450ms/step - loss: 0.6445 - accuracy: 0.6671 - val_loss: 0.6300 - val_accuracy: 0.7031\n",
      "Epoch 2/10\n",
      "241/241 [==============================] - 115s 479ms/step - loss: 0.6434 - accuracy: 0.6609 - val_loss: 0.6284 - val_accuracy: 0.7161\n",
      "Epoch 3/10\n",
      "241/241 [==============================] - 114s 473ms/step - loss: 0.6434 - accuracy: 0.6644 - val_loss: 0.6284 - val_accuracy: 0.6906\n",
      "Epoch 4/10\n",
      "241/241 [==============================] - 116s 483ms/step - loss: 0.6419 - accuracy: 0.6563 - val_loss: 0.6260 - val_accuracy: 0.7036\n",
      "Epoch 5/10\n",
      "241/241 [==============================] - 116s 482ms/step - loss: 0.6407 - accuracy: 0.6642 - val_loss: 0.6244 - val_accuracy: 0.7051\n",
      "Epoch 6/10\n",
      "241/241 [==============================] - 114s 474ms/step - loss: 0.6394 - accuracy: 0.6631 - val_loss: 0.6226 - val_accuracy: 0.7166\n",
      "Epoch 7/10\n",
      "241/241 [==============================] - 116s 482ms/step - loss: 0.6374 - accuracy: 0.6711 - val_loss: 0.6215 - val_accuracy: 0.7077\n",
      "Epoch 8/10\n",
      "241/241 [==============================] - 115s 477ms/step - loss: 0.6374 - accuracy: 0.6659 - val_loss: 0.6214 - val_accuracy: 0.6942\n",
      "Epoch 9/10\n",
      "241/241 [==============================] - 117s 486ms/step - loss: 0.6375 - accuracy: 0.6668 - val_loss: 0.6182 - val_accuracy: 0.7181\n",
      "Epoch 10/10\n",
      "241/241 [==============================] - 119s 493ms/step - loss: 0.6350 - accuracy: 0.6681 - val_loss: 0.6174 - val_accuracy: 0.7077\n"
     ]
    },
    {
     "data": {
      "text/plain": "<keras.callbacks.History at 0x23e180c2880>"
     },
     "execution_count": 11,
     "metadata": {},
     "output_type": "execute_result"
    }
   ],
   "source": [
    "model.fit(train_sequences,train_label,epochs=epochs,validation_data=(test_sequences,test_label),callbacks=callbacks)"
   ],
   "metadata": {
    "collapsed": false,
    "pycharm": {
     "name": "#%%\n"
    }
   }
  },
  {
   "cell_type": "code",
   "execution_count": 12,
   "outputs": [
    {
     "data": {
      "text/plain": "<Figure size 640x480 with 1 Axes>",
      "image/png": "[encoded data removed]"
     },
     "metadata": {},
     "output_type": "display_data"
    },
    {
     "data": {
      "text/plain": "<Figure size 640x480 with 1 Axes>",
      "image/png": "[encoded data removed]"
     },
     "metadata": {},
     "output_type": "display_data"
    }
   ],
   "source": [
    "history = model.history\n",
    "def plot_graphs(history, string):\n",
    "  plt.plot(history.history[string])\n",
    "  plt.plot(history.history['val_'+string])\n",
    "  plt.xlabel(\"Epochs\")\n",
    "  plt.ylabel(string)\n",
    "  plt.legend([string, 'val_'+string])\n",
    "  plt.show()\n",
    "\n",
    "plot_graphs(history, \"accuracy\")\n",
    "plot_graphs(history, \"loss\");"
   ],
   "metadata": {
    "collapsed": false,
    "pycharm": {
     "name": "#%%\n"
    }
   }
  },
  {
   "cell_type": "code",
   "execution_count": 23,
   "outputs": [
    {
     "name": "stdout",
     "output_type": "stream",
     "text": [
      "Keras weights file (<HDF5 file \"variables.h5\" (mode r+)>) saving:\n",
      "...layers\\bidirectional\n",
      "......vars\n",
      "...layers\\bidirectional\\backward_layer\n",
      "......vars\n",
      "...layers\\bidirectional\\backward_layer\\cell\n",
      "......vars\n",
      ".........0\n",
      ".........1\n",
      ".........2\n",
      "...layers\\bidirectional\\forward_layer\n",
      "......vars\n",
      "...layers\\bidirectional\\forward_layer\\cell\n",
      "......vars\n",
      ".........0\n",
      ".........1\n",
      ".........2\n",
      "...layers\\bidirectional\\layer\n",
      "......vars\n",
      "...layers\\bidirectional\\layer\\cell\n",
      "......vars\n",
      "...layers\\conv2d\n",
      "......vars\n",
      ".........0\n",
      ".........1\n",
      "...layers\\dense\n",
      "......vars\n",
      ".........0\n",
      ".........1\n",
      "...layers\\dropout\n",
      "......vars\n",
      "...layers\\dropout_1\n",
      "......vars\n",
      "...layers\\dropout_2\n",
      "......vars\n",
      "...layers\\embedding\n",
      "......vars\n",
      ".........0\n",
      "...layers\\flatten\n",
      "......vars\n",
      "...layers\\max_pooling2d\n",
      "......vars\n",
      "...layers\\reshape\n",
      "......vars\n",
      "...metrics\\mean\n",
      "......vars\n",
      ".........0\n",
      ".........1\n",
      "...metrics\\mean_metric_wrapper\n",
      "......vars\n",
      ".........0\n",
      ".........1\n",
      "...optimizer\n",
      "......vars\n",
      ".........0\n",
      ".........1\n",
      ".........10\n",
      ".........11\n",
      ".........12\n",
      ".........13\n",
      ".........14\n",
      ".........15\n",
      ".........16\n",
      ".........17\n",
      ".........18\n",
      ".........19\n",
      ".........2\n",
      ".........20\n",
      ".........3\n",
      ".........4\n",
      ".........5\n",
      ".........6\n",
      ".........7\n",
      ".........8\n",
      ".........9\n",
      "...vars\n",
      "Keras model archive saving:\n",
      "File Name                                             Modified             Size\n",
      "config.json                                    2023-02-19 12:56:30         4618\n",
      "metadata.json                                  2023-02-19 12:56:30           64\n",
      "variables.h5                                   2023-02-19 12:56:30     19996376\n"
     ]
    },
    {
     "data": {
      "text/plain": "['情感分析.pkl']"
     },
     "execution_count": 23,
     "metadata": {},
     "output_type": "execute_result"
    }
   ],
   "source": [
    "import joblib\n",
    "joblib.dump(model,\"情感分析.pkl\")"
   ],
   "metadata": {
    "collapsed": false,
    "pycharm": {
     "name": "#%%\n"
    }
   }
  },
  {
   "cell_type": "code",
   "execution_count": 18,
   "outputs": [],
   "source": [
    "from keras.models import load_model\n",
    "import numpy as np\n",
    "import json\n",
    "from keras.preprocessing.text import Tokenizer,tokenizer_from_json"
   ],
   "metadata": {
    "collapsed": false,
    "pycharm": {
     "name": "#%%\n"
    }
   }
  },
  {
   "cell_type": "code",
   "execution_count": 25,
   "outputs": [
    {
     "name": "stdout",
     "output_type": "stream",
     "text": [
      "You must install pydot (`pip install pydot`) and install graphviz (see instructions at https://graphviz.gitlab.io/download/) for plot_model to work.\n"
     ]
    }
   ],
   "source": [
    "from keras.utils import plot_model\n",
    "plot_model(model)"
   ],
   "metadata": {
    "collapsed": false,
    "pycharm": {
     "name": "#%%\n"
    }
   }
  },
  {
   "cell_type": "code",
   "execution_count": 4,
   "outputs": [],
   "source": [
    "model = load_model('./saved_model/情感2.h5')"
   ],
   "metadata": {
    "collapsed": false,
    "pycharm": {
     "name": "#%%\n"
    }
   }
  }
 ],
 "metadata": {
  "kernelspec": {
   "display_name": "Python 3",
   "language": "python",
   "name": "python3"
  },
  "language_info": {
   "codemirror_mode": {
    "name": "ipython",
    "version": 2
   },
   "file_extension": ".py",
   "mimetype": "text/x-python",
   "name": "python",
   "nbconvert_exporter": "python",
   "pygments_lexer": "ipython2",
   "version": "2.7.6"
  }
 },
 "nbformat": 4,
 "nbformat_minor": 0
}